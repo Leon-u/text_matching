{
 "cells": [
  {
   "cell_type": "code",
   "execution_count": 1,
   "id": "educated-nicaragua",
   "metadata": {},
   "outputs": [],
   "source": [
    "import torch\n",
    "import pandas as pd\n",
    "import numpy as np\n",
    "import re"
   ]
  },
  {
   "cell_type": "code",
   "execution_count": 5,
   "id": "expanded-special",
   "metadata": {},
   "outputs": [
    {
     "data": {
      "text/plain": [
       "gold_label                                                          neutral\n",
       "sentence1_binary_parse    ( ( Two women ) ( ( are ( embracing ( while ( ...\n",
       "sentence2_binary_parse    ( ( The sisters ) ( ( are ( ( hugging goodbye ...\n",
       "sentence1_parse           (ROOT (S (NP (CD Two) (NNS women)) (VP (VBP ar...\n",
       "sentence2_parse           (ROOT (S (NP (DT The) (NNS sisters)) (VP (VBP ...\n",
       "sentence1                 Two women are embracing while holding to go pa...\n",
       "sentence2                 The sisters are hugging goodbye while holding ...\n",
       "captionID                                                  4705552913.jpg#2\n",
       "pairID                                                  4705552913.jpg#2r1n\n",
       "label1                                                              neutral\n",
       "label2                                                           entailment\n",
       "label3                                                              neutral\n",
       "label4                                                              neutral\n",
       "label5                                                              neutral\n",
       "Name: 0, dtype: object"
      ]
     },
     "execution_count": 5,
     "metadata": {},
     "output_type": "execute_result"
    }
   ],
   "source": [
    "dev = pd.read_csv('./data/SNLI/snli_1.0_dev.txt',sep='\\t')\n",
    "dev.iloc[0,:]"
   ]
  },
  {
   "cell_type": "code",
   "execution_count": 8,
   "id": "technical-studio",
   "metadata": {},
   "outputs": [],
   "source": [
    "def convert_label(x):\n",
    "    '''\n",
    "    性质标签转换成数字\n",
    "    '''\n",
    "    if x == 'entailment':\n",
    "        return 0\n",
    "    elif x == 'contradiction':\n",
    "        return 1\n",
    "    else:\n",
    "        return 2\n",
    "    \n",
    "def convert_string(text):\n",
    "    '''\n",
    "    去除标点符号\n",
    "    '''\n",
    "    punctuation = '.!,;:?\"\\''\n",
    "    text = re.sub(r'[{}]+'.format(punctuation),'',text)\n",
    "    #  '[{}]+'.format(punctuation) 即为：'[.!,;:?\"\\']+'\n",
    "    return text.strip().lower()\n",
    "\n",
    "def deal_SNLI(file):\n",
    "    data = pd.read_csv(file, sep='\\t')\n",
    "    new_data = data.loc[:, ['sentence1', 'sentence2', 'gold_label']].copy()\n",
    "    # 三列标签中有任何一列为空该行都会被删除\n",
    "    new_data.dropna(axis=0,how='any',inplace=True)\n",
    "    new_data['gold_label']=new_data['gold_label'].apply(lambda x : convert_label(x))\n",
    "    new_data['sentence1'] = new_data['sentence1'].apply(lambda x : convert_string(x))\n",
    "    new_data['sentence2'] = new_data['sentence2'].apply(lambda x : convert_string(x))\n",
    "\n",
    "    return new_data"
   ]
  },
  {
   "cell_type": "code",
   "execution_count": 9,
   "id": "aboriginal-orlando",
   "metadata": {},
   "outputs": [],
   "source": [
    "dev_data=deal_SNLI('./data/SNLI/snli_1.0_dev.txt')\n",
    "dev_data.to_csv('./data/SNLI/snli-dev.txt', sep='\\t', header=None, index=False)\n",
    "\n",
    "test_data=deal_SNLI('./data/SNLI/snli_1.0_test.txt')\n",
    "test_data.to_csv('./data/SNLI/snli-test.txt', sep='\\t', header=None, index=False)\n",
    "\n",
    "train_data=deal_SNLI('./data/SNLI/snli_1.0_train.txt')\n",
    "train_data.to_csv('./data/SNLI/snli-train.txt', sep='\\t', header=None, index=False)"
   ]
  },
  {
   "cell_type": "code",
   "execution_count": null,
   "id": "accurate-iraqi",
   "metadata": {},
   "outputs": [],
   "source": []
  }
 ],
 "metadata": {
  "kernelspec": {
   "display_name": "Python 3",
   "language": "python",
   "name": "python3"
  },
  "language_info": {
   "codemirror_mode": {
    "name": "ipython",
    "version": 3
   },
   "file_extension": ".py",
   "mimetype": "text/x-python",
   "name": "python",
   "nbconvert_exporter": "python",
   "pygments_lexer": "ipython3",
   "version": "3.8.5"
  }
 },
 "nbformat": 4,
 "nbformat_minor": 5
}
